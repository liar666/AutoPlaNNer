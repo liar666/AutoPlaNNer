{
 "cells": [
  {
   "cell_type": "code",
   "execution_count": 2,
   "metadata": {},
   "outputs": [],
   "source": [
    "\"\"\"\n",
    "An attempt to implement automatic planning with CNNs\n",
    "\"\"\"\n",
    "\n",
    "import random   # To generate random numbers\n",
    "import datetime # To manipulate dates\n",
    "import copy     # To copy list of objects"
   ]
  },
  {
   "cell_type": "code",
   "execution_count": 3,
   "metadata": {},
   "outputs": [],
   "source": [
    "class Task:\n",
    "    ''' Models a basic Task/Operation. \"startDate\" and \"machine\" get affected during automatic planning '''\n",
    "    def __init__(self, name, parentSimulation, machine, dateStart, dateEnd,\n",
    "                 theoreticalDuration, stopDate, ofGroup, nbOp, compatibleMachines):\n",
    "        self.name=name\n",
    "        self.parentSimulation=parentSimulation\n",
    "        self.machine=machine\n",
    "        self.dateStart=dateStart\n",
    "        self.dateEnd=dateEnd\n",
    "        self.theoreticalDuration=theoreticalDuration\n",
    "        self.stopDate=stopDate\n",
    "        self.ofGroup=ofGroup\n",
    "        self.nbOp=nbOp\n",
    "        self.compatibleMachines=compatibleMachines\n",
    "    def __str__(self):\n",
    "        return(\"[\"+self.name+\"(\"+str(self.ofGroup)+\":\"+str(self.nbOp)+\")\"+\"@\"+str(self.machine)+\": \"+str(self.dateStart)+\"->\"+str(self.dateEnd)+\"]\")\n",
    "    def computeDateEnd():\n",
    "        ## TODO: check if parentSimu contains an obstacle \n",
    "        dateEnd = dateStart+theoreticalDuration"
   ]
  },
  {
   "cell_type": "code",
   "execution_count": 4,
   "metadata": {},
   "outputs": [],
   "source": [
    "class Planification:\n",
    "    ''' Models a solution to the planification problem '''\n",
    "    def __init__(self, parentSimulation, tasks):\n",
    "        self.parentSimulation=parentSimulation\n",
    "        self.tasks=tasks\n",
    "    def __str__(self):\n",
    "        return(\", \".join(map(str,self.tasks)))"
   ]
  },
  {
   "cell_type": "code",
   "execution_count": 5,
   "metadata": {},
   "outputs": [],
   "source": [
    "class Simulation:\n",
    "    ''' Models the whole problem: configuration+generation '''\n",
    "\n",
    "    class Config:\n",
    "        def __init__(self, dateStart, dateEnd, steps, nbMachines, nbObstacles, nbOfGroups, nbTasksInGroup, ratioCompatMachines):\n",
    "            self.planificationStart = dateStart\n",
    "            self.planificationEnd = dateEnd\n",
    "            self.planificationDuration = dateEnd - dateStart\n",
    "            self.gridSteps = steps\n",
    "            self.nbMachines = nbMachines\n",
    "            self.nbObstacles = nbObstacles\n",
    "            self.nbOfGroups = nbOfGroups\n",
    "            self.nbTasksInGroup = nbTasksInGroup\n",
    "            self.ratioCompatMachines = ratioCompatMachines\n",
    "    \n",
    "    @staticmethod\n",
    "    def randomDate(sTime, eTime):\n",
    "        return sTime + random.random()*(eTime-sTime)\n",
    "\n",
    "    @staticmethod\n",
    "    def randomDuration(duration):\n",
    "        return random.random()*duration\n",
    " \n",
    "    @staticmethod\n",
    "    def randomMachine(machines):\n",
    "        return machines[int(random.random()*len(machines))]\n",
    "\n",
    "    @staticmethod\n",
    "    def randomMachines(machines, nb):\n",
    "        return random.sample(machines, nb)\n",
    "\n",
    "    def initTimeGrains(self):\n",
    "        self.timeGrains = range(0, int((self.config.planificationDuration).total_seconds()), self.config.gridSteps)\n",
    "\n",
    "    def initMachines(self):\n",
    "        if (self.machines == None):\n",
    "            self.machines = [ \"Machine\"+str(i) for i in range(0, self.config.nbMachines) ]\n",
    "    \n",
    "    def initObstacles(self):\n",
    "        if (self.obstacles == None):\n",
    "            self.obstacles = []\n",
    "            for o in range(0, self.config.nbObstacles):\n",
    "                start    = Simulation.randomDate(self.config.planificationStart, self.config.planificationEnd)\n",
    "                duration = Simulation.randomDuration(self.config.planificationDuration/3)\n",
    "                machine  = Simulation.randomMachine(self.machines)\n",
    "                currTask = Task(name=\"Obstacle\"+str(o), parentSimulation=None, machine=machine,\n",
    "                                dateStart=start, dateEnd=start+duration,\n",
    "                                theoreticalDuration=duration,\n",
    "                                stopDate=None, ofGroup=None, nbOp=None,\n",
    "                                compatibleMachines=[machine])\n",
    "                self.obstacles.append(currTask)\n",
    "\n",
    "    def initTasks(self):\n",
    "        if (self.tasks == None):\n",
    "            self.tasks = []\n",
    "            for g in range(0, self.config.nbOfGroups):\n",
    "                stopDate = Simulation.randomDate(self.config.planificationStart, self.config.planificationEnd)\n",
    "                for t in range(0, self.config.nbTasksInGroup):\n",
    "                    currTask = Task(name=\"Task\"+str(t), parentSimulation=self, machine=None,\n",
    "                                    dateStart=None, dateEnd=None, \n",
    "                                    theoreticalDuration=Simulation.randomDuration(self.config.planificationDuration/3),\n",
    "                                    stopDate=stopDate, ofGroup=g, nbOp=t,\n",
    "                                    compatibleMachines=Simulation.randomMachines(self.machines, int(self.config.ratioCompatMachines*len(self.machines))))\n",
    "                    self.tasks.append(currTask)\n",
    "\n",
    "    def initPlanification(self):\n",
    "        self.problem = Planification(self, copy.deepcopy(self.tasks))\n",
    "        \n",
    "    def __init__(self, dateStart, dateEnd, steps,\n",
    "                 nbMachines, nbObstacles, nbOfGroups, nbTasksInGroup, ratioCompatMachines,\n",
    "                 machines=None, obstacles=None, tasks=None):\n",
    "        ''' if machines/obstacles/tasks are not provided/empty => they will be generated '''\n",
    "        self.config    = Simulation.Config(dateStart, dateEnd, steps, nbMachines, nbObstacles, nbOfGroups, nbTasksInGroup, ratioCompatMachines)\n",
    "        self.machines  = machines  ## Eventually null\n",
    "        self.obstacles = obstacles ## Eventually null\n",
    "        self.tasks     = tasks     ## Eventually null\n",
    "        self.initTimeGrains()    \n",
    "        self.initMachines()\n",
    "        self.initObstacles()\n",
    "        self.initTasks()\n",
    "        self.initPlanification()"
   ]
  },
  {
   "cell_type": "code",
   "execution_count": 6,
   "metadata": {},
   "outputs": [
    {
     "name": "stdout",
     "output_type": "stream",
     "text": [
      "Generated a problem of 30 Tasks:\n",
      "[Task0(0:0)@None: None->None], [Task1(0:1)@None: None->None], [Task2(0:2)@None: None->None], [Task3(0:3)@None: None->None], [Task4(0:4)@None: None->None], [Task5(0:5)@None: None->None], [Task0(1:0)@None: None->None], [Task1(1:1)@None: None->None], [Task2(1:2)@None: None->None], [Task3(1:3)@None: None->None], [Task4(1:4)@None: None->None], [Task5(1:5)@None: None->None], [Task0(2:0)@None: None->None], [Task1(2:1)@None: None->None], [Task2(2:2)@None: None->None], [Task3(2:3)@None: None->None], [Task4(2:4)@None: None->None], [Task5(2:5)@None: None->None], [Task0(3:0)@None: None->None], [Task1(3:1)@None: None->None], [Task2(3:2)@None: None->None], [Task3(3:3)@None: None->None], [Task4(3:4)@None: None->None], [Task5(3:5)@None: None->None], [Task0(4:0)@None: None->None], [Task1(4:1)@None: None->None], [Task2(4:2)@None: None->None], [Task3(4:3)@None: None->None], [Task4(4:4)@None: None->None], [Task5(4:5)@None: None->None]\n"
     ]
    }
   ],
   "source": [
    "def main(args):\n",
    "    simulation = Simulation(dateStart=datetime.datetime(2018,8,1,0,0,0),\n",
    "                            dateEnd=datetime.datetime(2018,8,31,23,59,59),\n",
    "                            steps=3000, nbMachines=6,\n",
    "                            nbObstacles=2, nbOfGroups=5, nbTasksInGroup=6, ratioCompatMachines=.5)\n",
    "    print(\"Generated a problem of \"+str(simulation.config.nbOfGroups*simulation.config.nbTasksInGroup)+\" Tasks:\")\n",
    "    print(str(simulation.problem))\n",
    "\n",
    "if (__name__ == \"__main__\"):\n",
    "    main(None)"
   ]
  },
  {
   "cell_type": "code",
   "execution_count": 8,
   "metadata": {},
   "outputs": [],
   "source": [
    "# TODO1: test rules: force-planning, precedence, JIT/ASAP, resources\n",
    "# TODO2: DeepLearning ala AlphaGo: 1 DNN-WhereToPlace + 1 DNN-FitnessToExpect+ Reinforcement learning as game"
   ]
  },
  {
   "cell_type": "code",
   "execution_count": null,
   "metadata": {},
   "outputs": [],
   "source": []
  },
  {
   "cell_type": "code",
   "execution_count": null,
   "metadata": {},
   "outputs": [],
   "source": []
  },
  {
   "cell_type": "markdown",
   "metadata": {},
   "source": []
  },
  {
   "cell_type": "code",
   "execution_count": null,
   "metadata": {},
   "outputs": [],
   "source": []
  }
 ],
 "metadata": {
  "kernelspec": {
   "display_name": "Python 3",
   "language": "python",
   "name": "python3"
  },
  "language_info": {
   "codemirror_mode": {
    "name": "ipython",
    "version": 3
   },
   "file_extension": ".py",
   "mimetype": "text/x-python",
   "name": "python",
   "nbconvert_exporter": "python",
   "pygments_lexer": "ipython3",
   "version": "3.6.5"
  }
 },
 "nbformat": 4,
 "nbformat_minor": 2
}
